{
 "cells": [
  {
   "cell_type": "markdown",
   "metadata": {},
   "source": [
    "I should write stuff here"
   ]
  },
  {
   "cell_type": "markdown",
   "metadata": {},
   "source": [
    "## Notes to self\n",
    "- I removed clm, numclaims. Only focusing on claimcst0. Is there a way to train the model on clm, numclaims such that it somehow improves the accuracy???\n",
    "- Alot of the claimcst0 have no values and only a few have non-zero value, is there something we can do here???"
   ]
  },
  {
   "cell_type": "markdown",
   "metadata": {},
   "source": [
    "### Imports & Global Variables"
   ]
  },
  {
   "cell_type": "code",
   "execution_count": 280,
   "metadata": {},
   "outputs": [],
   "source": [
    "import numpy as np\n",
    "import pandas as pd\n",
    "import matplotlib.pyplot as plt\n",
    "import seaborn as sns\n",
    "# place imports back here\n",
    "import warnings\n",
    "warnings.filterwarnings(\"ignore\", \"is_sparse\")"
   ]
  },
  {
   "cell_type": "code",
   "execution_count": 281,
   "metadata": {},
   "outputs": [],
   "source": [
    "import os, sys\n",
    "PATH = %pwd\n",
    "PATH = PATH.split(os.path.sep)\n",
    "PATH = os.path.sep.join(PATH[:-2]) #removes last 2 directories, gets path to repository"
   ]
  },
  {
   "cell_type": "markdown",
   "metadata": {},
   "source": [
    "### Preprocessing\n",
    "- Imbalanced Data\n",
    "    - Training dataset's target values (**y_test**) is 94% zero, when 6% non-zero values\n",
    "    - Sol: Data augmentation\n",
    "- \n",
    "\n"
   ]
  },
  {
   "cell_type": "code",
   "execution_count": 282,
   "metadata": {},
   "outputs": [],
   "source": [
    "# (1) Read both train/test + validation & preform equal preprocessing on it\n",
    "df_t = pd.read_csv(os.path.join(PATH, 'dataset', 'InsNova_data_2023_train.csv'))\n",
    "df_v = pd.read_csv(os.path.join(PATH, 'dataset', 'InsNova_data_2023_vh.csv'))"
   ]
  },
  {
   "cell_type": "code",
   "execution_count": 283,
   "metadata": {},
   "outputs": [],
   "source": [
    "col_categorical = ['veh_body', 'gender', 'area', 'engine_type', 'veh_color', \n",
    "                'marital_status', 'time_of_week_driven', 'time_driven']\n",
    "col_continuous = ['veh_value', 'exposure', 'credit_score']\n",
    "col_discrete = ['veh_age', 'agecat', 'max_power', 'driving_history_score',\n",
    "                'e_bill', 'trm_len', 'high_education_ind']\n",
    "col_target = ['claimcst0']"
   ]
  },
  {
   "cell_type": "code",
   "execution_count": 284,
   "metadata": {},
   "outputs": [
    {
     "name": "stdout",
     "output_type": "stream",
     "text": [
      "df_t claimcst0 percentage: 6.817277510057916%\n"
     ]
    }
   ],
   "source": [
    "claimcst0_percentage = (len(df_t[(df_t['claimcst0'] > 0)])/len(df_t['claimcst0']))*100\n",
    "print(f\"df_t claimcst0 percentage: {claimcst0_percentage}%\")"
   ]
  },
  {
   "cell_type": "code",
   "execution_count": 285,
   "metadata": {},
   "outputs": [],
   "source": [
    "col_categorical = ['veh_body', 'gender', 'area', 'engine_type', 'veh_color', \n",
    "                'marital_status', 'time_of_week_driven', 'time_driven']\n",
    "col_continuous = ['veh_value', 'exposure', 'credit_score']\n",
    "col_discrete = ['veh_age', 'agecat', 'max_power', 'driving_history_score',\n",
    "                'e_bill', 'trm_len', 'high_education_ind']\n",
    "\n",
    "# (2) Feature Manipulation\n",
    "# (2.1) Continuous/Discrete scaling\n",
    "from sklearn.preprocessing import RobustScaler\n",
    "rs = RobustScaler()\n",
    "df_t[col_continuous] = rs.fit_transform(df_t[col_continuous])\n",
    "df_t[col_discrete] = rs.fit_transform(df_t[col_discrete])\n",
    "\n",
    "df_v[col_continuous] = rs.fit_transform(df_v[col_continuous])\n",
    "df_v[col_discrete] = rs.fit_transform(df_v[col_discrete])\n",
    "\n",
    "# (2.2) Categorical processing\n",
    "df_t = pd.get_dummies(data=df_t,columns=col_categorical, dtype=float)\n",
    "df_v = pd.get_dummies(data=df_v,columns=col_categorical, dtype=float)\n",
    "\n",
    "\n",
    "# Replace whitespace with underscore ' ' -> '_'\n",
    "df_t.columns = df_t.columns.str.replace(' ', '_')\n",
    "df_v.columns = df_v.columns.str.replace(' ', '_')\n",
    "\n",
    "\n",
    "df_t = df_t.drop(columns=['clm','numclaims'])\n",
    "df_t = df_t.reset_index(drop=True)\n",
    "\n",
    "df_v = df_v.reset_index(drop=True)"
   ]
  },
  {
   "cell_type": "code",
   "execution_count": 286,
   "metadata": {},
   "outputs": [
    {
     "data": {
      "text/plain": [
       "\"\\ndf_t_zero = df_t[df_t['claimcst0'] == 0]\\ndf_t_non_0 = df_t[df_t['claimcst0'] > 0]\\n\\nfactor = len(df_t_zero)//len(df_t_non_0)\\ndf_t_non_0 = factor * df_t_non_0\\ntrain_df = pd.concat([df_t_zero,df_t_non_0], axis=0)\\ntrain_df = pd.concat([df_t_zero[:df_t_non_0.shape[0]],df_t_non_0], axis=0)\\n\""
      ]
     },
     "execution_count": 286,
     "metadata": {},
     "output_type": "execute_result"
    }
   ],
   "source": [
    "'''\n",
    "df_t_zero = df_t[df_t['claimcst0'] == 0]\n",
    "df_t_non_0 = df_t[df_t['claimcst0'] > 0]\n",
    "\n",
    "factor = len(df_t_zero)//len(df_t_non_0)\n",
    "df_t_non_0 = factor * df_t_non_0\n",
    "train_df = pd.concat([df_t_zero,df_t_non_0], axis=0)\n",
    "train_df = pd.concat([df_t_zero[:df_t_non_0.shape[0]],df_t_non_0], axis=0)\n",
    "'''"
   ]
  },
  {
   "cell_type": "code",
   "execution_count": 319,
   "metadata": {},
   "outputs": [
    {
     "name": "stderr",
     "output_type": "stream",
     "text": [
      "/Users/jb/anaconda3/envs/Kaggle-Travelers/lib/python3.11/site-packages/lightgbm/engine.py:181: UserWarning: 'early_stopping_rounds' argument is deprecated and will be removed in a future release of LightGBM. Pass 'early_stopping()' callback via 'callbacks' argument instead.\n",
      "  _log_warning(\"'early_stopping_rounds' argument is deprecated and will be removed in a future release of LightGBM. \"\n",
      "/Users/jb/anaconda3/envs/Kaggle-Travelers/lib/python3.11/site-packages/lightgbm/engine.py:239: UserWarning: 'verbose_eval' argument is deprecated and will be removed in a future release of LightGBM. Pass 'log_evaluation()' callback via 'callbacks' argument instead.\n",
      "  _log_warning(\"'verbose_eval' argument is deprecated and will be removed in a future release of LightGBM. \"\n",
      "/Users/jb/anaconda3/envs/Kaggle-Travelers/lib/python3.11/site-packages/lightgbm/engine.py:260: UserWarning: 'evals_result' argument is deprecated and will be removed in a future release of LightGBM. Pass 'record_evaluation()' callback via 'callbacks' argument instead.\n",
      "  _log_warning(\"'evals_result' argument is deprecated and will be removed in a future release of LightGBM. \"\n"
     ]
    },
    {
     "name": "stdout",
     "output_type": "stream",
     "text": [
      "[LightGBM] [Warning] Auto-choosing row-wise multi-threading, the overhead of testing was 0.004501 seconds.\n",
      "You can set `force_row_wise=true` to remove the overhead.\n",
      "And if memory is not enough, you can set `force_col_wise=true`.\n",
      "Training until validation scores don't improve for 100 rounds\n",
      "[150]\ttraining's mape: 52.6109\tvalid_1's mape: 52.8241\n",
      "[300]\ttraining's mape: 18.0623\tvalid_1's mape: 18.2619\n",
      "[450]\ttraining's mape: 5.56645\tvalid_1's mape: 5.66791\n",
      "[600]\ttraining's mape: 1.89212\tvalid_1's mape: 1.94126\n",
      "[750]\ttraining's mape: 0.716897\tvalid_1's mape: 0.74896\n",
      "[900]\ttraining's mape: 0.320763\tvalid_1's mape: 0.348268\n",
      "[1050]\ttraining's mape: 0.13832\tvalid_1's mape: 0.163977\n",
      "[1200]\ttraining's mape: 0.0498079\tvalid_1's mape: 0.0751087\n",
      "[1350]\ttraining's mape: 0.0219515\tvalid_1's mape: 0.0479733\n",
      "[1500]\ttraining's mape: 0.0107524\tvalid_1's mape: 0.037376\n",
      "[1650]\ttraining's mape: 0.00631801\tvalid_1's mape: 0.0335639\n",
      "[1800]\ttraining's mape: 0.00419251\tvalid_1's mape: 0.0319446\n",
      "[1950]\ttraining's mape: 0.00313034\tvalid_1's mape: 0.0313099\n",
      "[2100]\ttraining's mape: 0.00245267\tvalid_1's mape: 0.0310249\n",
      "[2250]\ttraining's mape: 0.00201969\tvalid_1's mape: 0.0309061\n",
      "[2400]\ttraining's mape: 0.0017127\tvalid_1's mape: 0.0308624\n",
      "[2550]\ttraining's mape: 0.00146877\tvalid_1's mape: 0.030836\n",
      "[2700]\ttraining's mape: 0.00127367\tvalid_1's mape: 0.0308223\n",
      "[2850]\ttraining's mape: 0.00110456\tvalid_1's mape: 0.0308182\n",
      "[3000]\ttraining's mape: 0.000962417\tvalid_1's mape: 0.0308117\n",
      "[3150]\ttraining's mape: 0.000849816\tvalid_1's mape: 0.0308118\n",
      "Early stopping, best iteration is:\n",
      "[3057]\ttraining's mape: 0.000912066\tvalid_1's mape: 0.0308006\n"
     ]
    }
   ],
   "source": [
    "import lightgbm as lgb\n",
    "from sklearn.model_selection import train_test_split\n",
    "X = df_t.drop(['id'], axis=1)\n",
    "y = df_t['claimcst0']\n",
    "\n",
    "X_train, X_test, y_train, y_test = train_test_split(X, y, test_size=0.2, random_state=42)\n",
    "\n",
    "\n",
    "params = {\n",
    "        'boosting_type': 'gbdt',\n",
    "        'objective': 'tweedie',\n",
    "        'metric':'mape',\n",
    "        'learning_rate': 0.01,\n",
    "        'scale_pos_weight': 16,  #because training data is unbalance (replaced with scale_pos_weight)\n",
    "        'num_leaves': 31,  # we should let it be smaller than 2^(max_depth)\n",
    "        'max_depth': 31,  # -1 means no limit\n",
    "        'min_child_samples': 10,  # Minimum number of data need in a child(min_data_in_leaf)\n",
    "        'max_bin': 255,  # Number of bucketed bin for feature values\n",
    "        'subsample': 0.8,  # Subsample ratio of the training instance.\n",
    "        'subsample_freq': 0,  # frequence of subsample, <=0 means no enable\n",
    "        'colsample_bytree': 0.3,  # Subsample ratio of columns when constructing each tree.\n",
    "        'min_child_weight': 5,  # Minimum sum of instance weight(hessian) needed in a child(leaf)\n",
    "        'subsample_for_bin': 200000,  # Number of samples for constructing bin\n",
    "        'min_split_gain': 0,  # lambda_l1, lambda_l2 and min_gain_to_split to regularization\n",
    "        'nthread': 4,\n",
    "        'verbose': 0,\n",
    "        'lambda_l2': 0.1,\n",
    "    }\n",
    "lgtrain = lgb.Dataset(X_train, label=y_train)\n",
    "lgval = lgb.Dataset(X_test, label=y_test)\n",
    "\n",
    "evals_result = {}\n",
    "model = lgb.train(params, lgtrain, 5000, \n",
    "                    valid_sets=[lgtrain, lgval], \n",
    "                    early_stopping_rounds=100, \n",
    "                    verbose_eval=150, \n",
    "                    evals_result=evals_result)\n",
    "\n",
    "pred_test_y = model.predict(X_test, num_iteration=model.best_iteration)"
   ]
  },
  {
   "cell_type": "code",
   "execution_count": 320,
   "metadata": {},
   "outputs": [
    {
     "data": {
      "text/plain": [
       "<Axes: title={'center': 'Metric during training'}, xlabel='Iterations', ylabel='mape'>"
      ]
     },
     "execution_count": 320,
     "metadata": {},
     "output_type": "execute_result"
    },
    {
     "data": {
      "image/png": "[encoded data removed]",
      "text/plain": [
       "<Figure size 640x480 with 1 Axes>"
      ]
     },
     "metadata": {},
     "output_type": "display_data"
    }
   ],
   "source": [
    "lgb.plot_metric(booster=evals_result)"
   ]
  },
  {
   "cell_type": "code",
   "execution_count": 321,
   "metadata": {},
   "outputs": [],
   "source": [
    "val_outputs = model.predict(df_v)\n",
    "#val_outputs = np.sort(val_outputs)\n",
    "val_outputs[val_outputs < 1] = 0\n",
    "\n",
    "val_outputs = pd.DataFrame(val_outputs, columns=['Predict'])\n",
    "val_outputs.rename_axis('id', inplace=True)\n",
    "val_outputs.index += 1\n",
    "val_outputs.to_csv('Tree_Submission.csv', index=True)"
   ]
  }
 ],
 "metadata": {
  "kernelspec": {
   "display_name": "Kaggle-Travelers",
   "language": "python",
   "name": "python3"
  },
  "language_info": {
   "codemirror_mode": {
    "name": "ipython",
    "version": 3
   },
   "file_extension": ".py",
   "mimetype": "text/x-python",
   "name": "python",
   "nbconvert_exporter": "python",
   "pygments_lexer": "ipython3",
   "version": "3.11.5"
  }
 },
 "nbformat": 4,
 "nbformat_minor": 2
}
