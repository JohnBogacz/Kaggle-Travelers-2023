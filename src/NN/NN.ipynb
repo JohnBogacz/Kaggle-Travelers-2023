{
 "cells": [
  {
   "cell_type": "markdown",
   "metadata": {},
   "source": [
    "I should write stuff here"
   ]
  },
  {
   "cell_type": "markdown",
   "metadata": {},
   "source": [
    "## Notes to self\n",
    "- I removed clm, numclaims. Only focusing on claimcst0. Is there a way to train the model on clm, numclaims such that it somehow improves the accuracy???\n",
    "- Alot of the claimcst0 have no values and only a few have non-zero value, is there something we can do here???"
   ]
  },
  {
   "cell_type": "markdown",
   "metadata": {},
   "source": [
    "### Imports & Global Variables"
   ]
  },
  {
   "cell_type": "code",
   "execution_count": 33,
   "metadata": {},
   "outputs": [],
   "source": [
    "import numpy as np\n",
    "import pandas as pd\n",
    "import matplotlib.pyplot as plt\n",
    "import random\n",
    "# place imports back here"
   ]
  },
  {
   "cell_type": "code",
   "execution_count": 34,
   "metadata": {},
   "outputs": [],
   "source": [
    "import os, sys\n",
    "PATH = %pwd\n",
    "PATH = PATH.split(os.path.sep)\n",
    "PATH = os.path.sep.join(PATH[:-2]) #removes last 2 directories, gets path to repository\n",
    "\n",
    "import warnings\n",
    "warnings.filterwarnings(\"ignore\", \"is_sparse\")"
   ]
  },
  {
   "cell_type": "markdown",
   "metadata": {},
   "source": [
    "### Preprocessing"
   ]
  },
  {
   "cell_type": "code",
   "execution_count": 35,
   "metadata": {},
   "outputs": [],
   "source": [
    "# (1) Read both train/test + validation & preform equal preprocessing on it\n",
    "df_t = pd.read_csv(os.path.join(PATH, 'dataset', 'InsNova_data_2023_train.csv'))\n",
    "df_t['is_val'] = 0\n",
    "df_v = pd.read_csv(os.path.join(PATH, 'dataset', 'InsNova_data_2023_vh.csv'))\n",
    "df_v['is_val'] = 1\n",
    "total_df = pd.concat([df_t,df_v], ignore_index=True)"
   ]
  },
  {
   "cell_type": "code",
   "execution_count": 36,
   "metadata": {},
   "outputs": [],
   "source": [
    "# Note\n",
    "col_categorical = ['veh_body', 'gender', 'area', 'engine_type', 'veh_color', \n",
    "                'marital_status', 'time_of_week_driven', 'time_driven']\n",
    "col_continuous = ['veh_value', 'exposure', 'credit_score']\n",
    "col_discrete = ['veh_age', 'agecat', 'max_power', 'driving_history_score',\n",
    "                'e_bill', 'trm_len', 'high_education_ind']\n",
    "\n",
    "# (2) Feature Manipulation\n",
    "# (2.1) Continuous/Discrete scaling\n",
    "from sklearn.preprocessing import RobustScaler\n",
    "rs = RobustScaler()\n",
    "total_df[col_continuous] = rs.fit_transform(total_df[col_continuous])\n",
    "total_df[col_discrete] = rs.fit_transform(total_df[col_discrete])\n",
    "\n",
    "# (2.2) Categorical processing\n",
    "total_df = pd.get_dummies(data=total_df,columns=col_categorical, dtype=float)\n",
    "\n",
    "# Replace whitespace with underscore ' ' -> '_'\n",
    "total_df.columns = total_df.columns.str.replace(' ', '_')\n",
    "\n",
    "# (3) separate total_df\n",
    "df_t = total_df[total_df['is_val'] == 0]\n",
    "df_t = df_t.drop(columns=['is_val','clm','numclaims']) # !removing clm, numclaims\n",
    "df_v = total_df[total_df['is_val'] == 1]\n",
    "df_v = df_v.drop(columns='is_val')\n",
    "del total_df"
   ]
  },
  {
   "cell_type": "markdown",
   "metadata": {},
   "source": [
    "### Issues\n",
    "- Imbalanced\n"
   ]
  },
  {
   "cell_type": "code",
   "execution_count": 37,
   "metadata": {},
   "outputs": [
    {
     "name": "stdout",
     "output_type": "stream",
     "text": [
      "df_t claimcst0 percentage: 6.817277510057916%\n"
     ]
    }
   ],
   "source": [
    "claimcst0_percentage = (len(df_t[(df_t['claimcst0'] > 0)])/len(df_t['claimcst0']))*100\n",
    "print(f\"df_t claimcst0 percentage: {claimcst0_percentage}%\")"
   ]
  },
  {
   "cell_type": "code",
   "execution_count": 38,
   "metadata": {},
   "outputs": [
    {
     "name": "stdout",
     "output_type": "stream",
     "text": [
      "zero_shape: (21077, 54) | non-zero_shape: (1542, 54)\n"
     ]
    }
   ],
   "source": [
    "df_t_zero = df_t[df_t['claimcst0'] == 0]\n",
    "df_t_non_0 = df_t[df_t['claimcst0'] > 0]\n",
    "\n",
    "print(f\"zero_shape: {df_t_zero.shape} | non-zero_shape: {df_t_non_0.shape}\")"
   ]
  },
  {
   "cell_type": "code",
   "execution_count": 39,
   "metadata": {},
   "outputs": [],
   "source": [
    "factor = len(df_t_zero)//len(df_t_non_0)\n",
    "df_t_non_0 = factor * df_t_non_0\n",
    "train_df = pd.concat([df_t_zero,df_t_non_0], axis=0)"
   ]
  },
  {
   "cell_type": "markdown",
   "metadata": {},
   "source": [
    "### Model Creation"
   ]
  },
  {
   "cell_type": "code",
   "execution_count": 40,
   "metadata": {},
   "outputs": [],
   "source": [
    "import torch\n",
    "import torch.nn as nn\n",
    "import torch.nn.functional as F\n",
    "import torch.optim as optim\n",
    "from sklearn.model_selection import train_test_split\n",
    "\n",
    "X = train_df.drop(['id','claimcst0'], axis=1)\n",
    "y = train_df['claimcst0']\n",
    "\n",
    "X_train, X_test, y_train, y_test = train_test_split(X, y, test_size=0.2, random_state=42)\n",
    "\n",
    "X_train = torch.FloatTensor(X_train.values)\n",
    "y_train = torch.FloatTensor(y_train.values).view(-1,1)\n",
    "X_test = torch.FloatTensor(X_test.values)\n",
    "y_test = torch.FloatTensor(y_test.values).view(-1,1)"
   ]
  },
  {
   "cell_type": "code",
   "execution_count": 41,
   "metadata": {},
   "outputs": [],
   "source": [
    "class Model(nn.Module):\n",
    "    def __init__(self, num_inputs, num_layers, num_layer_size):\n",
    "        super().__init__()\n",
    "        \n",
    "        self.layers = nn.ModuleList([nn.Linear(num_inputs, num_layer_size)])\n",
    "        \n",
    "        for _ in range(num_layers):\n",
    "            self.layers.append(nn.Linear(num_layer_size, num_layer_size))\n",
    "        \n",
    "        self.output_layer = nn.Linear(num_layer_size, 1)\n",
    "        \n",
    "    def forward(self, x):\n",
    "        for layer in self.layers:\n",
    "            x = F.relu(layer(x))\n",
    "        x = self.output_layer(x)\n",
    "        return x"
   ]
  },
  {
   "cell_type": "code",
   "execution_count": 42,
   "metadata": {},
   "outputs": [],
   "source": [
    "class ZeroNonZeroClassifier(nn.Module):\n",
    "    def __init__(self, num_inputs, num_layer_size):\n",
    "        super().__init__()\n",
    "        self.layers = nn.ModuleList([nn.Linear(num_inputs, num_layer_size)])\n",
    "        self.output_layer = nn.Linear(num_layer_size, 2)  # Output with two classes: zero and non-zero\n",
    "\n",
    "    def forward(self, x):\n",
    "        for layer in self.layers:\n",
    "            x = F.relu(layer(x))\n",
    "        x = self.output_layer(x)\n",
    "        return x\n",
    "\n",
    "class NonZeroValuePredictor(nn.Module):\n",
    "    def __init__(self, num_inputs, num_layer_size):\n",
    "        super().__init__()\n",
    "        self.layers = nn.ModuleList([nn.Linear(num_inputs, num_layer_size)])\n",
    "        self.output_layer = nn.Linear(num_layer_size, 1)\n",
    "\n",
    "    def forward(self, x):\n",
    "        for layer in self.layers:\n",
    "            x = F.relu(layer(x))\n",
    "        x = self.output_layer(x)\n",
    "        return x\n",
    "\n",
    "class Model(nn.Module):\n",
    "    def __init__(self, num_inputs, num_layers, num_layer_size):\n",
    "        super().__init__()\n",
    "        self.zero_nonzero_classifier = ZeroNonZeroClassifier(num_inputs, num_layer_size)\n",
    "        self.non_zero_value_predictor = NonZeroValuePredictor(num_inputs, num_layer_size)\n",
    "        self.num_layer_size = num_layer_size\n",
    "\n",
    "    def forward(self, x):\n",
    "        classification_output = self.zero_nonzero_classifier(x)\n",
    "        zero_prob = torch.softmax(classification_output, dim=1)[:, 0]  # Probability of being zero\n",
    "\n",
    "        non_zero_input = F.relu(x)\n",
    "        non_zero_output = self.non_zero_value_predictor(non_zero_input)\n",
    "\n",
    "        final_output = zero_prob.view(-1, 1) * torch.zeros_like(non_zero_output) + (1 - zero_prob).view(-1, 1) * non_zero_output\n",
    "        return final_output"
   ]
  },
  {
   "cell_type": "code",
   "execution_count": 43,
   "metadata": {},
   "outputs": [],
   "source": [
    "NUM_EPOCHS = 300\n",
    "NUM_INPUT_FEATURE = X_train.shape[1]\n",
    "NUM_LAYERS = 5\n",
    "NUM_NODES_PER_LAYER = 64\n",
    "NUM_NO_VAL_LOSS_IMPROVE = 301 #no early termination\n",
    "\n",
    "model = Model(\n",
    "    num_inputs=NUM_INPUT_FEATURE,\n",
    "    num_layers=NUM_LAYERS,\n",
    "    num_layer_size=NUM_NODES_PER_LAYER\n",
    ")\n",
    "criterion = nn.L1Loss()\n",
    "optimizer = optim.Adam(model.parameters(), lr=0.01, weight_decay=0.001)"
   ]
  },
  {
   "cell_type": "code",
   "execution_count": 44,
   "metadata": {},
   "outputs": [
    {
     "name": "stdout",
     "output_type": "stream",
     "text": [
      "Epoch [30/300]\n",
      "Loss: 2070.2244\n",
      "Validation Loss: 2163.3699\n",
      "\n",
      "Epoch [60/300]\n",
      "Loss: 1912.4994\n",
      "Validation Loss: 2003.0033\n",
      "\n",
      "Epoch [90/300]\n",
      "Loss: 1775.2211\n",
      "Validation Loss: 1860.1464\n",
      "\n",
      "Epoch [120/300]\n",
      "Loss: 1745.4092\n",
      "Validation Loss: 1823.0488\n",
      "\n",
      "Epoch [150/300]\n",
      "Loss: 1737.6160\n",
      "Validation Loss: 1813.2635\n",
      "\n",
      "Epoch [180/300]\n",
      "Loss: 1733.2383\n",
      "Validation Loss: 1811.8893\n",
      "\n",
      "Epoch [210/300]\n",
      "Loss: 1727.3831\n",
      "Validation Loss: 1812.9045\n",
      "\n",
      "Epoch [240/300]\n",
      "Loss: 1720.8727\n",
      "Validation Loss: 1816.0017\n",
      "\n",
      "Epoch [270/300]\n",
      "Loss: 1714.5458\n",
      "Validation Loss: 1818.8057\n",
      "\n",
      "Epoch [300/300]\n",
      "Loss: 1708.0002\n",
      "Validation Loss: 1821.5026\n",
      "\n"
     ]
    }
   ],
   "source": [
    "import math\n",
    "val_no_improve_counter = 0\n",
    "best_val_loss = float('inf')\n",
    "\n",
    "train_losses = []\n",
    "val_losses = []\n",
    "for epoch in range(NUM_EPOCHS):\n",
    "    outputs = model(X_train)\n",
    "    loss = criterion(outputs, y_train)\n",
    "\n",
    "    optimizer.zero_grad()\n",
    "    loss.backward()\n",
    "    optimizer.step()\n",
    "\n",
    "    if (epoch + 1) % math.floor(NUM_EPOCHS * 0.10) == 0:\n",
    "        print(f'Epoch [{epoch+1}/{NUM_EPOCHS}]\\nLoss: {loss.item():.4f}')\n",
    "        \n",
    "    #Val\n",
    "    with torch.no_grad():\n",
    "        val_outputs = model(X_test)\n",
    "        val_loss = criterion(val_outputs, y_test)\n",
    "        if (epoch + 1) % math.floor(NUM_EPOCHS * 0.10) == 0:\n",
    "            print(f'Validation Loss: {val_loss.item():.4f}\\n')\n",
    "\n",
    "        # Check if the validation loss has increased\n",
    "        if val_loss > best_val_loss:\n",
    "            val_no_improve_counter += 1\n",
    "            if val_no_improve_counter >= NUM_NO_VAL_LOSS_IMPROVE:\n",
    "                print(f'Early stopping at epoch {epoch+1}. Validation loss stopped improving.')\n",
    "                break  # Stop training\n",
    "        else:\n",
    "            best_val_loss = val_loss\n",
    "            counter = 0\n",
    "    \n",
    "    train_losses.append(loss.item())\n",
    "    val_losses.append(val_loss.item())"
   ]
  },
  {
   "cell_type": "code",
   "execution_count": 45,
   "metadata": {},
   "outputs": [],
   "source": [
    "with torch.no_grad():\n",
    "    val_outputs = model(X_test)\n",
    "    val_loss = criterion(val_outputs, y_test)\n",
    "    \n",
    "    val_outputs_np = val_outputs.numpy()\n",
    "    y_test_np = y_test.numpy()\n",
    "    \n",
    "    with open(os.path.join(PATH,\"src\", \"NN\", \"NN_V2_pred-vs-true.txt\"), 'w') as f:\n",
    "        for i in range(len(y_test)):\n",
    "            f.write(f\"Prediction: {val_outputs_np[i][0]:.4f}, True Value: {y_test_np[i][0]:.4f}\\n\")"
   ]
  },
  {
   "cell_type": "code",
   "execution_count": 46,
   "metadata": {},
   "outputs": [
    {
     "data": {
      "image/png": "[encoded data removed]",
      "text/plain": [
       "<Figure size 1000x500 with 1 Axes>"
      ]
     },
     "metadata": {},
     "output_type": "display_data"
    }
   ],
   "source": [
    "plt.figure(figsize=(10, 5))\n",
    "plt.plot(range(1, len(train_losses) + 1), train_losses, label='Training Loss')\n",
    "plt.plot(range(1, len(val_losses) + 1), val_losses, label='Validation Loss')\n",
    "plt.xlabel('Epoch')\n",
    "plt.ylabel('Loss')\n",
    "plt.legend()\n",
    "plt.title('Training and Validation Loss')\n",
    "plt.grid(True)\n",
    "plt.show()"
   ]
  }
 ],
 "metadata": {
  "kernelspec": {
   "display_name": "Kaggle-Travelers",
   "language": "python",
   "name": "python3"
  },
  "language_info": {
   "codemirror_mode": {
    "name": "ipython",
    "version": 3
   },
   "file_extension": ".py",
   "mimetype": "text/x-python",
   "name": "python",
   "nbconvert_exporter": "python",
   "pygments_lexer": "ipython3",
   "version": "3.11.5"
  }
 },
 "nbformat": 4,
 "nbformat_minor": 2
}
